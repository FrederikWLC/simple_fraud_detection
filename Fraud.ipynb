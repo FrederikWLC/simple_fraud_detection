{
  "nbformat": 4,
  "nbformat_minor": 0,
  "metadata": {
    "colab": {
      "name": "Fraud.ipynb",
      "version": "0.3.2",
      "provenance": [],
      "collapsed_sections": []
    },
    "kernelspec": {
      "name": "python3",
      "display_name": "Python 3"
    }
  },
  "cells": [
    {
      "cell_type": "code",
      "metadata": {
        "id": "dKZYs1D0S7m9",
        "colab_type": "code",
        "outputId": "4793aa9b-cb4f-4e9c-a38f-27b310ba6e6f",
        "colab": {
          "base_uri": "https://localhost:8080/",
          "height": 336
        }
      },
      "source": [
        "# Import dependencies from scikit-learn for model predictions\n",
        "from sklearn.model_selection import train_test_split\n",
        "from sklearn.linear_model import LogisticRegression\n",
        "from sklearn.metrics import classification_report\n",
        "\n",
        "# Import pandas for data handling\n",
        "import pandas as pd\n",
        "\n",
        "# Gather data from the CSV file\n",
        "df = pd.read_csv(\"creditcard.csv\")\n",
        "\n",
        "# Get a description of the data\n",
        "print(df.describe())\n",
        "\n",
        "# Print end of data\n",
        "print(df.tail())\n",
        "\n"
      ],
      "execution_count": 0,
      "outputs": [
        {
          "output_type": "stream",
          "text": [
            "                Time            V1  ...         Amount          Class\n",
            "count  284807.000000  2.848070e+05  ...  284807.000000  284807.000000\n",
            "mean    94813.859575  3.919560e-15  ...      88.349619       0.001727\n",
            "std     47488.145955  1.958696e+00  ...     250.120109       0.041527\n",
            "min         0.000000 -5.640751e+01  ...       0.000000       0.000000\n",
            "25%     54201.500000 -9.203734e-01  ...       5.600000       0.000000\n",
            "50%     84692.000000  1.810880e-02  ...      22.000000       0.000000\n",
            "75%    139320.500000  1.315642e+00  ...      77.165000       0.000000\n",
            "max    172792.000000  2.454930e+00  ...   25691.160000       1.000000\n",
            "\n",
            "[8 rows x 31 columns]\n",
            "            Time         V1         V2  ...       V28  Amount  Class\n",
            "284802  172786.0 -11.881118  10.071785  ...  0.823731    0.77      0\n",
            "284803  172787.0  -0.732789  -0.055080  ... -0.053527   24.79      0\n",
            "284804  172788.0   1.919565  -0.301254  ... -0.026561   67.88      0\n",
            "284805  172788.0  -0.240440   0.530483  ...  0.104533   10.00      0\n",
            "284806  172792.0  -0.533413  -0.189733  ...  0.013649  217.00      0\n",
            "\n",
            "[5 rows x 31 columns]\n"
          ],
          "name": "stdout"
        }
      ]
    },
    {
      "cell_type": "code",
      "metadata": {
        "id": "VUSsLaBtXkjA",
        "colab_type": "code",
        "outputId": "6b0e5474-0468-4406-d7fd-4f9ac6fb0c64",
        "colab": {
          "base_uri": "https://localhost:8080/",
          "height": 252
        }
      },
      "source": [
        "\n",
        "# Use 'Amount' and 'V1' , ..., 'V28' as features\n",
        "X = df[[\"Amount\"]+[f\"V{num}\" for num in range(1,29)]]\n",
        "\n",
        "# Use 'Class' as the variable we want to predict; Fraud or non-fraud\n",
        "y = df[\"Class\"]\n",
        "\n",
        "# Print end of data\n",
        "print(X.tail())\n",
        "print(y.tail())"
      ],
      "execution_count": 0,
      "outputs": [
        {
          "output_type": "stream",
          "text": [
            "        Amount         V1         V2  ...       V26       V27       V28\n",
            "284802    0.77 -11.881118  10.071785  ...  0.250034  0.943651  0.823731\n",
            "284803   24.79  -0.732789  -0.055080  ... -0.395255  0.068472 -0.053527\n",
            "284804   67.88   1.919565  -0.301254  ... -0.087371  0.004455 -0.026561\n",
            "284805   10.00  -0.240440   0.530483  ...  0.546668  0.108821  0.104533\n",
            "284806  217.00  -0.533413  -0.189733  ... -0.818267 -0.002415  0.013649\n",
            "\n",
            "[5 rows x 29 columns]\n",
            "284802    0\n",
            "284803    0\n",
            "284804    0\n",
            "284805    0\n",
            "284806    0\n",
            "Name: Class, dtype: int64\n"
          ],
          "name": "stdout"
        }
      ]
    },
    {
      "cell_type": "code",
      "metadata": {
        "id": "JbavRqKtdXdx",
        "colab_type": "code",
        "outputId": "3f739f07-c16f-4bee-b1ee-5a452138334b",
        "colab": {
          "base_uri": "https://localhost:8080/",
          "height": 283
        }
      },
      "source": [
        "# Visualizing the dataset\n",
        "\n",
        "import matplotlib.pyplot as plt\n",
        "frauds = df.loc[df['Class'] == 1]\n",
        "non_frauds = df.loc[df['Class'] == 0]\n",
        "\n",
        "ax = frauds.plot.scatter(x='Amount',y='Class', color='Red', label='Fraud')\n",
        "non_frauds.plot.scatter(x='Amount', y='Class', color='Green', label='Normal', ax=ax)\n",
        "plt.show()"
      ],
      "execution_count": 0,
      "outputs": [
        {
          "output_type": "display_data",
          "data": {
            "image/png": "[encoded data removed]",
            "text/plain": [
              "<Figure size 432x288 with 1 Axes>"
            ]
          },
          "metadata": {
            "tags": []
          }
        }
      ]
    },
    {
      "cell_type": "code",
      "metadata": {
        "id": "3kfZopIbmFMK",
        "colab_type": "code",
        "colab": {}
      },
      "source": [
        " \"\"\"\n",
        " Function for making the distribution of the values of each variable similar\n",
        " by subtracting the mean and dividing by the standard deviation.\n",
        " \"\"\"\n",
        "def normalize(X):\n",
        "    for feature in X.columns:\n",
        "        X[feature] -= X[feature].mean()\n",
        "        X[feature] /= X[feature].std()\n",
        "    return X"
      ],
      "execution_count": 0,
      "outputs": []
    },
    {
      "cell_type": "code",
      "metadata": {
        "id": "Ab7i5UHB4kYK",
        "colab_type": "code",
        "outputId": "b22ebd82-49fd-4259-dca8-37c3434c9c98",
        "colab": {
          "base_uri": "https://localhost:8080/",
          "height": 440
        }
      },
      "source": [
        "# Generate model\n",
        "model = LogisticRegression()\n",
        "\n",
        "# Split data between training data and testing data\n",
        "X_train, X_test, y_train, y_test = train_test_split(X, y, test_size=.035)\n",
        "    \n",
        "# Normalize the data independent from eachother\n",
        "X_train = normalize(X_train)\n",
        "X_test = normalize(X_test)\n",
        "    \n",
        "# Fit and predict\n",
        "model.fit(X_train, y_train)\n",
        "y_pred = model.predict(X_test)\n",
        "    \n",
        "# Show the results\n",
        "print(classification_report(y_test, y_pred))\n",
        "print(f\"Score: {model.score(X_test,y_test)}\")"
      ],
      "execution_count": 0,
      "outputs": [
        {
          "output_type": "stream",
          "text": [
            "/usr/local/lib/python3.6/dist-packages/ipykernel_launcher.py:7: SettingWithCopyWarning: \n",
            "A value is trying to be set on a copy of a slice from a DataFrame.\n",
            "Try using .loc[row_indexer,col_indexer] = value instead\n",
            "\n",
            "See the caveats in the documentation: http://pandas.pydata.org/pandas-docs/stable/indexing.html#indexing-view-versus-copy\n",
            "  import sys\n",
            "/usr/local/lib/python3.6/dist-packages/ipykernel_launcher.py:8: SettingWithCopyWarning: \n",
            "A value is trying to be set on a copy of a slice from a DataFrame.\n",
            "Try using .loc[row_indexer,col_indexer] = value instead\n",
            "\n",
            "See the caveats in the documentation: http://pandas.pydata.org/pandas-docs/stable/indexing.html#indexing-view-versus-copy\n",
            "  \n",
            "/usr/local/lib/python3.6/dist-packages/sklearn/linear_model/logistic.py:432: FutureWarning: Default solver will be changed to 'lbfgs' in 0.22. Specify a solver to silence this warning.\n",
            "  FutureWarning)\n"
          ],
          "name": "stderr"
        },
        {
          "output_type": "stream",
          "text": [
            "              precision    recall  f1-score   support\n",
            "\n",
            "           0       1.00      1.00      1.00      9956\n",
            "           1       0.80      0.62      0.70        13\n",
            "\n",
            "    accuracy                           1.00      9969\n",
            "   macro avg       0.90      0.81      0.85      9969\n",
            "weighted avg       1.00      1.00      1.00      9969\n",
            "\n",
            "Score: 0.9992978232520815\n"
          ],
          "name": "stdout"
        }
      ]
    }
  ]
}